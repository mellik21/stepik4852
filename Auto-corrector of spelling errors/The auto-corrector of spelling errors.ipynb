{
 "cells": [
  {
   "cell_type": "markdown",
   "metadata": {},
   "source": [
    "># Автокорректор ошибок \n",
    "На основе блокнота Яна Пиле, который перевел блокнот Питера Норвига, Google \\\n",
    "https://norvig.com/spell-correct.html"
   ]
  },
  {
   "cell_type": "code",
   "execution_count": 4,
   "metadata": {},
   "outputs": [
    {
     "name": "stdout",
     "output_type": "stream",
     "text": [
      "Populating the interactive namespace from numpy and matplotlib\n"
     ]
    },
    {
     "name": "stderr",
     "output_type": "stream",
     "text": [
      "/home/nastya/anaconda3/lib/python3.8/site-packages/IPython/core/magics/pylab.py:159: UserWarning: pylab import has clobbered these variables: ['test', 'product']\n",
      "`%matplotlib` prevents importing * from pylab and numpy\n",
      "  warn(\"pylab import has clobbered these variables: %s\"  % clobbered +\n"
     ]
    }
   ],
   "source": [
    "%pylab inline\n",
    "import re #регулярные выражения\n",
    "import math\n",
    "from collections import Counter\n",
    "import requests"
   ]
  },
  {
   "cell_type": "code",
   "execution_count": 5,
   "metadata": {},
   "outputs": [
    {
     "name": "stdout",
     "output_type": "stream",
     "text": [
      "6488666\n",
      "The Project Gutenberg EBook of The Adventures of Sherlock Holmes\n",
      "by Sir Arthur Conan Doyle\n"
     ]
    }
   ],
   "source": [
    "TEXT = requests.get('https://norvig.com/big.txt').text\n",
    "print(len(TEXT))\n",
    "print(TEXT[:90])"
   ]
  },
  {
   "cell_type": "code",
   "execution_count": 6,
   "metadata": {},
   "outputs": [],
   "source": [
    "#разбиваем текст на слова(токены) не учитываются слова с дефисами, цифры, слова повторяются\n",
    "def tokens(text):\n",
    "    return re.findall(r'[a-z]+',text.lower())\n",
    "\n",
    "#проверяем работу функции\n",
    "#tokens('This is: A test, 1, 2, 3, this is.')"
   ]
  },
  {
   "cell_type": "code",
   "execution_count": 7,
   "metadata": {},
   "outputs": [
    {
     "name": "stdout",
     "output_type": "stream",
     "text": [
      "1105285\n",
      "['the', 'project', 'gutenberg', 'ebook', 'of', 'the', 'adventures', 'of', 'sherlock', 'holmes']\n"
     ]
    }
   ],
   "source": [
    "WORDS = tokens(TEXT)\n",
    "print(len(WORDS))\n",
    "print(WORDS[:10])"
   ]
  },
  {
   "cell_type": "markdown",
   "metadata": {},
   "source": [
    ">### Мешок слов (Bag of words)\n",
    "В модели мешка слов полностью игнорируется порядок слов, зато соблюдается их частота. \\\n",
    "Смысл мешка слов: все слова текста сбрасываются в мешок и перемешиваются. Если достать случайные слова, предложение из них будет некорректным. Зато наиболее частые слова действительно будут встречаться наиболее часто, а редкие - реже. \\\n",
    "Реализация:"
   ]
  },
  {
   "cell_type": "code",
   "execution_count": 8,
   "metadata": {},
   "outputs": [
    {
     "data": {
      "text/plain": [
       "'wicked and one colleges be have his prevent such sherlock'"
      ]
     },
     "execution_count": 8,
     "metadata": {},
     "output_type": "execute_result"
    }
   ],
   "source": [
    "def sample(bag, n=10):\n",
    "    return ' '.join(random.choice(bag) for _ in range(n))\n",
    "\n",
    "sample(WORDS)"
   ]
  },
  {
   "cell_type": "markdown",
   "metadata": {},
   "source": [
    ">Другое представление мешка слов - <b>Counter</b>.\\\n",
    "Это похож на словарь, состоящий из пар <code>{'слово': кол-во вхождений слова в текст}</code> \\\n",
    "Но у него есть много своих методов. \\\n",
    "Пример:"
   ]
  },
  {
   "cell_type": "code",
   "execution_count": 9,
   "metadata": {},
   "outputs": [
    {
     "name": "stdout",
     "output_type": "stream",
     "text": [
      "[('the', 80030), ('of', 40025), ('and', 38313), ('to', 28766), ('in', 22050), ('a', 21155), ('that', 12512), ('he', 12401), ('was', 11410), ('it', 10681)]\n"
     ]
    }
   ],
   "source": [
    "COUNTS = Counter(WORDS)\n",
    "print(COUNTS.most_common(10))"
   ]
  },
  {
   "cell_type": "code",
   "execution_count": 10,
   "metadata": {},
   "outputs": [
    {
     "name": "stdout",
     "output_type": "stream",
     "text": [
      "80030 the\n",
      "83 rare\n",
      "38313 and\n",
      "0 neverrbeforeseen\n",
      "460 words\n",
      "29157\n"
     ]
    }
   ],
   "source": [
    "#насколько часто встречаются слова из этого преложения в тексте?\n",
    "for w in tokens('the rare and neverrbeforeseen words'):\n",
    "    print(COUNTS[w], w)\n",
    "    \n",
    "print(len(COUNTS))"
   ]
  },
  {
   "cell_type": "markdown",
   "metadata": {},
   "source": [
    ">В 1935, лингвист Джордж Ципф отметил, что в любом большом тексте n-тое наиболее часто встречающееся слово появляется с частотой ~(пропорционально) 1/n от частоты наиболее встречающегося слова. Это наблюдение называется <b>Закон Ципфа</b>.\\\n",
    "Если нарисовать частоты слов, начиная от самого часто встречающегося, на log-log-графике, они должны приблизителньо следовать прямой линии.\n"
   ]
  },
  {
   "cell_type": "code",
   "execution_count": 11,
   "metadata": {},
   "outputs": [
    {
     "data": {
      "image/png": "[encoded data removed]",
      "text/plain": [
       "<Figure size 432x288 with 1 Axes>"
      ]
     },
     "metadata": {
      "needs_background": "light"
     },
     "output_type": "display_data"
    }
   ],
   "source": [
    "#логарифмируем обе части выражения\n",
    "M = COUNTS['the']\n",
    "yscale('log');\n",
    "xscale('log');\n",
    "title('Частота n-того наиболее частого сллва и линия 1/n.')\n",
    "plot([c for(w,c) in COUNTS.most_common()])\n",
    "plot([M/i for i in range(1,len(COUNTS))]);"
   ]
  },
  {
   "cell_type": "markdown",
   "metadata": {},
   "source": [
    ">### Задача проверки правописания\n",
    "<b>Letter insertion</b> - вставка лишней буквы \\\n",
    "<b>Letter omission</b> - пропуск буквы \\\n",
    "<b>Letter substitution</b> - замена буквы \\\n",
    "<b>Transposition</b> - переставление букв местами \\\n",
    "<b>Compounding</b> - склеивание слов \\\n",
    "<b>Apostrophe</b> - неверная постановка апострофа \\\n",
    "\n",
    ">Задача: для данного слова нужно найти наиболее вероятную правку <code>c = correct(w)</code> \\\n",
    "Применим наивный подход: всегда будем брать более близкое слово, если проверки на близость недостаточно, берем слово с максимальной частотой из WORDS.\\\n",
    "Близость можно измерить с помощью <b>Расстояния Левенштейна</b>: минимального необходимого количества удалений, перестановок, вставок и замен символов, необходимых чтобы одно слово превратилось в другое. \\\n",
    "Методом проб и ошибок можно понять, что поиск слов в пределах расстояния 2 уже даст пристойныее результаты. \\\n",
    "Остается определить функцию <code>c = correct(w)</code> :"
   ]
  },
  {
   "cell_type": "code",
   "execution_count": 12,
   "metadata": {},
   "outputs": [],
   "source": [
    "def correct(word):\n",
    "    #предрассчитать edit_distance==0, затем 1, затем 2, иначе: оставить слово \"как есть\"\n",
    "    candidates = (known(edits0(word)) or\n",
    "                  known(edits1(word)) or\n",
    "                  known(edits2(word)) or\n",
    "                  [word])\n",
    "    return max(candidates, key=COUNTS.get)"
   ]
  },
  {
   "cell_type": "markdown",
   "metadata": {},
   "source": [
    ">Функция edits1(word) должна возвращать множество слов, находящихся на расстоянии edit_distance==1. \\\n",
    "Пример работы алгоритма: \n",
    "\n",
    ">||||||||\n",
    "|-----|-------|------|------|------|------|------|\n",
    "|пары:|x+wird|w+ird|wi+rd|wir+d|wird+x|<i>Notes:(a,b) пара</i>\n",
    "|удаления:|x+ird|w+rd|wi+d|wir+x||<i>Удаление первой буквы в b</i>\n",
    "|перемена мест:|x+iwrd|w+rid|wi+dr|||<i>Перемена мест двух первых букв b</i>\n",
    "|замена:|x+?ird|w+?rd|wi+?d|wir+?||<i>Замена букв в начале b</i>\n",
    "|вставка:|x+?+wird|w+?+ird|wi+?+rd|wir+?+d|wird+?+x|<i>Вставка буквы между a и b</i>\n",
    "\n"
   ]
  },
  {
   "cell_type": "code",
   "execution_count": 13,
   "metadata": {},
   "outputs": [],
   "source": [
    "def edits1(word):\n",
    "    pairs      = splits(word)\n",
    "    deletes    = [a+b[1:]            for (a,b) in pairs if b]\n",
    "    transposes = [a+b[1]+b[0]+b[2:]  for (a,b) in pairs if len(b)>1]\n",
    "    replaces   = [a+c+b[1:]          for (a,b) in pairs for c in alphabet if b]\n",
    "    inserts    = [a+c+b              for (a,b) in pairs for c in alphabet]\n",
    "    return set(deletes + transposes + replaces + inserts)\n",
    "\n",
    "def splits(word):\n",
    "    return [(word[:i], word[i:])\n",
    "            for i in range (len(word)+1)]\n",
    "\n",
    "alphabet = 'abcdefghijklmnopqrstuvwxyz'"
   ]
  },
  {
   "cell_type": "code",
   "execution_count": 14,
   "metadata": {},
   "outputs": [],
   "source": [
    "def known(words):\n",
    "    return {w for w in words if w in COUNTS}\n",
    "\n",
    "def edits0(word):\n",
    "    return {word}\n",
    "\n",
    "def edits2(word):\n",
    "    return {e2 for e1 in edits1(word) for e2 in edits1(e1)}"
   ]
  },
  {
   "cell_type": "code",
   "execution_count": 15,
   "metadata": {},
   "outputs": [
    {
     "data": {
      "text/plain": [
       "[('', 'wird'), ('w', 'ird'), ('wi', 'rd'), ('wir', 'd'), ('wird', '')]"
      ]
     },
     "execution_count": 15,
     "metadata": {},
     "output_type": "execute_result"
    }
   ],
   "source": [
    "splits('wird')"
   ]
  },
  {
   "cell_type": "code",
   "execution_count": 16,
   "metadata": {},
   "outputs": [
    {
     "name": "stdout",
     "output_type": "stream",
     "text": [
      "{'oird', 'wrird', 'winrd', 'wire', 'widrd', 'wurd', 'wirjd', 'wild', 'wisrd', 'xird', 'pird', 'wirg', 'wirad', 'whird', 'wigd', 'wirp', 'ywird', 'wirdf', 'witd', 'awird', 'widr', 'wimd', 'wiod', 'ewird', 'qird', 'wirda', 'wibrd', 'twird', 'ward', 'rird', 'wirhd', 'woird', 'wid', 'vwird', 'wirdg', 'wlrd', 'wiord', 'wirde', 'word', 'wierd', 'wirdc', 'wir', 'wwrd', 'wira', 'wiid', 'iwrd', 'wircd', 'wgrd', 'wiru', 'wiyd', 'wiry', 'dird', 'wirdj', 'yird', 'wfird', 'mird', 'waird', 'wirsd', 'wirdt', 'wyrd', 'wvrd', 'sird', 'wiard', 'wifrd', 'wdird', 'nwird', 'iwird', 'cird', 'uird', 'wirfd', 'qwird', 'wiad', 'wirl', 'wrrd', 'hwird', 'wirwd', 'wiryd', 'wirdk', 'wirr', 'zwird', 'bwird', 'lwird', 'wvird', 'wirdm', 'wqrd', 'wirj', 'wihrd', 'wzrd', 'wiwd', 'wizd', 'cwird', 'wirdh', 'rwird', 'wcird', 'whrd', 'wirz', 'wjird', 'wxrd', 'wiqrd', 'wimrd', 'wind', 'wiird', 'wirmd', 'wirk', 'wirv', 'pwird', 'wbird', 'wikd', 'wijrd', 'wijd', 'werd', 'wirbd', 'wirgd', 'wirdw', 'wnird', 'wiro', 'wied', 'wisd', 'wiri', 'wirdu', 'wirid', 'jird', 'wirnd', 'wirt', 'eird', 'wirdq', 'wilrd', 'wiurd', 'wirtd', 'wirzd', 'owird', 'wsrd', 'wifd', 'mwird', 'wivrd', 'wtrd', 'xwird', 'wmrd', 'wired', 'wixrd', 'wcrd', 'vird', 'wicrd', 'gird', 'jwird', 'nird', 'wirdr', 'wirm', 'gwird', 'wzird', 'wiyrd', 'iird', 'wibd', 'hird', 'wirdd', 'wirdv', 'wrid', 'wfrd', 'wxird', 'bird', 'wirx', 'fwird', 'wirh', 'wirw', 'wgird', 'wirdl', 'wirdx', 'widd', 'witrd', 'wirq', 'wbrd', 'wiprd', 'kird', 'wiqd', 'wixd', 'dwird', 'wyird', 'wirdb', 'wirld', 'wlird', 'wirds', 'ird', 'wirrd', 'wnrd', 'wtird', 'wuird', 'wirdi', 'fird', 'wird', 'wirb', 'wigrd', 'wirod', 'wirvd', 'wirdn', 'wkrd', 'wicd', 'tird', 'wipd', 'wirkd', 'wirdp', 'wikrd', 'wirdz', 'wizrd', 'wirf', 'wirdy', 'lird', 'wirs', 'wirud', 'uwird', 'wdrd', 'weird', 'wihd', 'wirxd', 'wmird', 'kwird', 'wiud', 'wprd', 'wqird', 'wirpd', 'wjrd', 'wirdo', 'swird', 'wivd', 'wwird', 'wrd', 'zird', 'wirqd', 'wiwrd', 'wkird', 'wirc', 'wirn', 'wpird', 'wsird', 'aird'}\n",
      "234\n",
      "24254\n"
     ]
    }
   ],
   "source": [
    "print(edits1('wird'))\n",
    "print(len(edits1('wird')))\n",
    "print(len(edits2('wird'))) #код мягко говоря не очень оптимальный"
   ]
  },
  {
   "cell_type": "code",
   "execution_count": 17,
   "metadata": {},
   "outputs": [
    {
     "data": {
      "text/plain": [
       "['speling',\n",
       " 'errurs',\n",
       " 'in',\n",
       " 'somethink',\n",
       " 'whutever',\n",
       " 'ususuel',\n",
       " 'misteakes',\n",
       " 'everyware']"
      ]
     },
     "execution_count": 17,
     "metadata": {},
     "output_type": "execute_result"
    }
   ],
   "source": [
    "tokens('Speling errurs in somethink. Whutever; ususuel misteakes everyware?)')"
   ]
  },
  {
   "cell_type": "code",
   "execution_count": 18,
   "metadata": {},
   "outputs": [
    {
     "data": {
      "text/plain": [
       "['spelling',\n",
       " 'errors',\n",
       " 'in',\n",
       " 'something',\n",
       " 'whatever',\n",
       " 'unusual',\n",
       " 'mistakes',\n",
       " 'everywhere']"
      ]
     },
     "execution_count": 18,
     "metadata": {},
     "output_type": "execute_result"
    }
   ],
   "source": [
    "list(map(correct, tokens('Speling errurs in somethink. Whutever; ususuel misteakes everyware?)')))"
   ]
  },
  {
   "cell_type": "code",
   "execution_count": 19,
   "metadata": {},
   "outputs": [],
   "source": [
    "#давайте возвращать слово в регистре в котором оно встретилось\n",
    "def correct_text(text):\n",
    "    return re.sub('[a-zA-Z]+', correct_match, text)\n",
    "\n",
    "def correct_match(match):\n",
    "    word = match.group()\n",
    "    return case_of(word)(correct(word.lower()))\n",
    "\n",
    "#возвращает функцию преобразовывающую слово в определенный регистр\n",
    "def case_of(text):\n",
    "    return (str.upper if text.isupper() else\n",
    "            str.lower if text.islower() else\n",
    "            str.title if text.istitle() else\n",
    "            str)"
   ]
  },
  {
   "cell_type": "code",
   "execution_count": 20,
   "metadata": {},
   "outputs": [
    {
     "data": {
      "text/plain": [
       "[<method 'upper' of 'str' objects>,\n",
       " <method 'lower' of 'str' objects>,\n",
       " <method 'title' of 'str' objects>,\n",
       " str]"
      ]
     },
     "execution_count": 20,
     "metadata": {},
     "output_type": "execute_result"
    }
   ],
   "source": [
    "list(map(case_of,['UPPER','lower','Title','CamelCase']))"
   ]
  },
  {
   "cell_type": "code",
   "execution_count": 21,
   "metadata": {},
   "outputs": [
    {
     "data": {
      "text/plain": [
       "'Spelling Errors IN something. Whatever; unusual mistakes?'"
      ]
     },
     "execution_count": 21,
     "metadata": {},
     "output_type": "execute_result"
    }
   ],
   "source": [
    "correct_text('Speling Errurs IN somethink. Whutever; ususuel misteakes?')"
   ]
  },
  {
   "cell_type": "markdown",
   "metadata": {},
   "source": [
    ">### Теория: От счетчика слов к вероятностям последовательностей слов\n",
    "Нам нужно научиться подсчитывать вероятности слов,$ P(w)$. Делать это будем с помощью функции <code>pdist</code>, которая на вход принимает <code>Counter</code>(мешок слов) и возвращает функцию, выполняющую роль вероятностного распределения на множестве всех возможных слов. \n"
   ]
  },
  {
   "cell_type": "code",
   "execution_count": 22,
   "metadata": {},
   "outputs": [],
   "source": [
    "def pdist(counter):\n",
    "    \"Превращает частоты из Counter в вероятностное распределение\"\n",
    "    N = sum(list(counter.values()))\n",
    "    return lambda x: counter[x]/N\n",
    "\n",
    "P=pdist(COUNTS)"
   ]
  },
  {
   "cell_type": "code",
   "execution_count": 23,
   "metadata": {},
   "outputs": [
    {
     "name": "stdout",
     "output_type": "stream",
     "text": [
      "0.07240666434449033 the\n",
      "0.008842968103249388 is\n",
      "0.07240666434449033 the\n",
      "0.0008215075749693518 most\n",
      "0.0002596615352601365 common\n",
      "0.0002696137195383996 word\n",
      "0.019949605757790978 in\n",
      "0.00019090098933759167 english\n"
     ]
    }
   ],
   "source": [
    "for w in tokens('\"The\" is the most common word in English'):\n",
    "    print(P(w),w)"
   ]
  },
  {
   "cell_type": "markdown",
   "metadata": {},
   "source": [
    ">Что же такое вероятность последовательности слов? Используем определение совместной вероятности:\n",
    "$ P(w_1...w_n) = P(w_1)xP(w_2|w_1)xP(w_3|w_1w_2)...x...P(w_n|w_1...w_{n-1})$ \\\n",
    "Модель мешка слов подразумевает, что каждое слово из мешка достается независимо от других. Это дает нам упрощенную аппроксимацию: \\\n",
    "$ P(w_1...w_n) = P(w_1)xP(w_2)xP(w_3)...x...P(w_n)$\n",
    "\n",
    ">Чтобы посчитать $ P(w_1...w_n) $, обозначим его Pwords."
   ]
  },
  {
   "cell_type": "code",
   "execution_count": 24,
   "metadata": {},
   "outputs": [],
   "source": [
    "def Pwords(words): #вероятности слов при условии что они независимы\n",
    "    return product(P(w) for w in words)\n",
    "\n",
    "def product(nums):\n",
    "    #перемножим числа\n",
    "    result = 1\n",
    "    for x in nums:\n",
    "        result*=x\n",
    "    return result"
   ]
  },
  {
   "cell_type": "code",
   "execution_count": 26,
   "metadata": {},
   "outputs": [
    {
     "name": "stdout",
     "output_type": "stream",
     "text": [
      "2.983396332800731e-11 this is a test\n",
      "1.3975923769696695e-16 this is an unusual test\n",
      "0.0 this is a neverbeforeseen test\n"
     ]
    }
   ],
   "source": [
    "tests = ['this is a test',\n",
    "         'this is an unusual test',\n",
    "         'this is a neverbeforeseen test']\n",
    "\n",
    "for test in tests:\n",
    "    print(Pwords(tokens(test)),test)"
   ]
  },
  {
   "cell_type": "markdown",
   "metadata": {},
   "source": []
  },
  {
   "cell_type": "code",
   "execution_count": null,
   "metadata": {},
   "outputs": [],
   "source": []
  }
 ],
 "metadata": {
  "kernelspec": {
   "display_name": "Python 3",
   "language": "python",
   "name": "python3"
  },
  "language_info": {
   "codemirror_mode": {
    "name": "ipython",
    "version": 3
   },
   "file_extension": ".py",
   "mimetype": "text/x-python",
   "name": "python",
   "nbconvert_exporter": "python",
   "pygments_lexer": "ipython3",
   "version": "3.8.3"
  }
 },
 "nbformat": 4,
 "nbformat_minor": 4
}
