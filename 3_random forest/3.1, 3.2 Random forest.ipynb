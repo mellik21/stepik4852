{
 "cells": [
  {
   "cell_type": "markdown",
   "metadata": {},
   "source": [
    "<b>Дерево решений</b> - ужасно переобученный алгоритм <br>\n",
    "<b>min_sample_split</b> - какой размер выборки мы будем считать минимально допустимым чтобы сделать по нему split (если в прямоугольнике меньше 100 наблюдений то дальше сплит не происходит) <br>\n",
    "Нельзя перебрать все параметры, можно брать их с каким-то шагом или из подвыборки"
   ]
  },
  {
   "cell_type": "markdown",
   "metadata": {},
   "source": [
    "<i> Oбернем слабость дерева решений в его силу! </i> <br><br>\n",
    "Например, посадим 4 дерева решений и далее  <br>\n",
    "1му дереву решений дадим посмотреть только на подвыборку из всех данных <br>\n",
    "2му только тоже часть но с другими переменными и другими строками <br>\n",
    "... <br>\n",
    "Запускаем кросс-валидацию и обучение. Каждое дерево дало какое-то предсказание(вероятность отнесения к классу).<br>\n",
    "Если усреднить эту вероятность будет более точное значение.\n",
    "Выше описан <b>Random Forest</b>. <br>\n",
    "Деревья на самом деле все одинаковые по набору параметров, разные только датасеты.<br>\n",
    "bootstrap - будут ли повторения?"
   ]
  },
  {
   "cell_type": "code",
   "execution_count": 24,
   "metadata": {},
   "outputs": [],
   "source": [
    "import pandas as pd\n",
    "import numpy as np\n",
    "from sklearn.model_selection import train_test_split\n",
    "from sklearn.ensemble import RandomForestClassifier\n",
    "from sklearn.model_selection import GridSearchCV"
   ]
  },
  {
   "cell_type": "code",
   "execution_count": 25,
   "metadata": {},
   "outputs": [],
   "source": [
    "titanic_data = pd.read_csv('train.csv')\n",
    "titanic_data.isnull().sum()\n",
    "X = titanic_data.drop(['PassengerId','Name','Ticket','Cabin','Survived'], axis=1)\n",
    "X = pd.get_dummies(X)\n",
    "X = X.fillna({'Age':X.Age.median()})\n",
    "X.isnull().sum()\n",
    "y = titanic_data.Survived"
   ]
  },
  {
   "cell_type": "code",
   "execution_count": 26,
   "metadata": {},
   "outputs": [],
   "source": [
    "X_train, X_test, y_train, y_test = train_test_split(X, y, test_size = 0.33, random_state = 42)"
   ]
  },
  {
   "cell_type": "code",
   "execution_count": 27,
   "metadata": {},
   "outputs": [
    {
     "data": {
      "text/plain": [
       "{'max_depth': 5, 'n_estimators': 30}"
      ]
     },
     "execution_count": 27,
     "metadata": {},
     "output_type": "execute_result"
    }
   ],
   "source": [
    "clf_rf = RandomForestClassifier()\n",
    "parametrs = {'n_estimators': [10,20,30], 'max_depth': [2,5,7,10]}\n",
    "grid_search_cv_clf = GridSearchCV(clf_rf, parametrs, cv=5)\n",
    "grid_search_cv_clf.fit(X_train, y_train)\n",
    "grid_search_cv_clf.best_params_"
   ]
  },
  {
   "cell_type": "markdown",
   "metadata": {},
   "source": [
    "### 3.2.8\n",
    "import pandas as pd<br>\n",
    "from sklearn.ensemble import RandomForestClassifier<br>\n",
    "\n",
    "rf = RandomForestClassifier(n_estimators= 15, max_depth= 5)<br>\n",
    "rf.fit(x_train, y_train)<br>\n",
    "predictions = rf.predict(x_test)<br>"
   ]
  },
  {
   "cell_type": "code",
   "execution_count": null,
   "metadata": {},
   "outputs": [],
   "source": [
    "\n"
   ]
  },
  {
   "cell_type": "code",
   "execution_count": null,
   "metadata": {},
   "outputs": [],
   "source": []
  },
  {
   "cell_type": "code",
   "execution_count": null,
   "metadata": {},
   "outputs": [],
   "source": []
  },
  {
   "cell_type": "code",
   "execution_count": null,
   "metadata": {},
   "outputs": [],
   "source": []
  }
 ],
 "metadata": {
  "kernelspec": {
   "display_name": "Python 3",
   "language": "python",
   "name": "python3"
  },
  "language_info": {
   "codemirror_mode": {
    "name": "ipython",
    "version": 3
   },
   "file_extension": ".py",
   "mimetype": "text/x-python",
   "name": "python",
   "nbconvert_exporter": "python",
   "pygments_lexer": "ipython3",
   "version": "3.8.3"
  }
 },
 "nbformat": 4,
 "nbformat_minor": 4
}
