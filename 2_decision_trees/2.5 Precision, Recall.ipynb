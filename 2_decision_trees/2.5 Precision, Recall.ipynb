{
 "cells": [
  {
   "cell_type": "markdown",
   "metadata": {},
   "source": [
    "<b>Precision</b> - точность, более важен в ситуациях, где не нужны ложные положительные срабатывания \\\n",
    "<b>Recall</b> - полнота, более важен в ситуациях, где не нужны ложные отрицательные срабатывания \n",
    "\n",
    "precision = \"не прихватить лишнее?\" \\\n",
    "recall = \"не пропустить нужное ?\" \n",
    "\n",
    "\n",
    "\\begin{equation*}\n",
    "\\ Precision = \n",
    "\\frac{TP}{(TP+FP)}\n",
    "\\end{equation*}\n",
    "\n",
    "\\begin{equation*}\n",
    "\\ Recall = \n",
    "\\frac{TP}{(TP+FN)}\n",
    "\\end{equation*}\n",
    "\n",
    "<b>F-мера</b>\n",
    "\n",
    "\\begin{equation*}\n",
    "\\ F1 = \n",
    "\\frac{2 * (precision * recall)}{(precision + recall)}\n",
    "\\end{equation*}"
   ]
  },
  {
   "cell_type": "code",
   "execution_count": 7,
   "metadata": {},
   "outputs": [],
   "source": [
    "tp = 15\n",
    "fp = 15\n",
    "fn = 30\n"
   ]
  },
  {
   "cell_type": "code",
   "execution_count": 8,
   "metadata": {},
   "outputs": [
    {
     "data": {
      "text/plain": [
       "0.5"
      ]
     },
     "execution_count": 8,
     "metadata": {},
     "output_type": "execute_result"
    }
   ],
   "source": [
    "p = tp/(tp+fp)\n",
    "p"
   ]
  },
  {
   "cell_type": "code",
   "execution_count": 9,
   "metadata": {},
   "outputs": [
    {
     "data": {
      "text/plain": [
       "0.3333333333333333"
      ]
     },
     "execution_count": 9,
     "metadata": {},
     "output_type": "execute_result"
    }
   ],
   "source": [
    "r = tp/(tp+fn)\n",
    "r"
   ]
  },
  {
   "cell_type": "code",
   "execution_count": 10,
   "metadata": {},
   "outputs": [
    {
     "data": {
      "text/plain": [
       "0.4"
      ]
     },
     "execution_count": 10,
     "metadata": {},
     "output_type": "execute_result"
    }
   ],
   "source": [
    "f1 = (2*(p*r))/(p+r)\n",
    "f1"
   ]
  },
  {
   "cell_type": "code",
   "execution_count": null,
   "metadata": {},
   "outputs": [],
   "source": []
  }
 ],
 "metadata": {
  "kernelspec": {
   "display_name": "Python 3",
   "language": "python",
   "name": "python3"
  },
  "language_info": {
   "codemirror_mode": {
    "name": "ipython",
    "version": 3
   },
   "file_extension": ".py",
   "mimetype": "text/x-python",
   "name": "python",
   "nbconvert_exporter": "python",
   "pygments_lexer": "ipython3",
   "version": "3.7.3"
  }
 },
 "nbformat": 4,
 "nbformat_minor": 4
}
